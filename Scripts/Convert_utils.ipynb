{
 "cells": [
  {
   "cell_type": "markdown",
   "id": "838fea8a-6a7c-4339-857b-10c19f2aff25",
   "metadata": {},
   "source": [
    "# Convertir le notebook Fonction_utils en script Python"
   ]
  },
  {
   "cell_type": "code",
   "execution_count": 3,
   "id": "94661515-efbc-447b-92a0-d89e5446f8a3",
   "metadata": {},
   "outputs": [
    {
     "name": "stdout",
     "output_type": "stream",
     "text": [
      "Le notebook /home/sacko/Documents/ProjetStatuCompt/Scripts/Fonction_utils.ipynb a été converti en script Python.\n"
     ]
    }
   ],
   "source": [
    "import nbformat\n",
    "from nbconvert import PythonExporter\n",
    "import os\n",
    "\n",
    "# Définition des chemins \n",
    "notebook_path = \"/home/sacko/Documents/ProjetStatuCompt/Scripts/Fonction_utils.ipynb\"\n",
    "script_path = \"/home/sacko/Documents/ProjetStatuCompt/Scripts/Fonction_utils.py\"\n",
    "\n",
    "# Fonction pour convertir le notebook en script Python\n",
    "def convert_notebook_to_script(notebook_path, script_path):\n",
    "    with open(notebook_path) as f:\n",
    "        nb = nbformat.read(f, as_version=4)\n",
    "    exporter = PythonExporter()\n",
    "    script, _ = exporter.from_notebook_node(nb)\n",
    "\n",
    "    with open(script_path, 'w') as f:\n",
    "        f.write(script)\n",
    "\n",
    "# Exécuter la conversion\n",
    "convert_notebook_to_script(notebook_path, script_path)\n",
    "print(f\"Le notebook {notebook_path} a été converti en script Python.\")"
   ]
  },
  {
   "cell_type": "code",
   "execution_count": null,
   "id": "52b03b56-13bc-4ff3-9185-e02f34a7701c",
   "metadata": {},
   "outputs": [],
   "source": []
  },
  {
   "cell_type": "code",
   "execution_count": null,
   "id": "6c56295f-e39b-472e-b33f-bfff6a50ec63",
   "metadata": {},
   "outputs": [],
   "source": []
  },
  {
   "cell_type": "code",
   "execution_count": null,
   "id": "12e94fe2-c25d-436d-8db4-42fa008b8114",
   "metadata": {},
   "outputs": [],
   "source": []
  },
  {
   "cell_type": "code",
   "execution_count": null,
   "id": "1799a52c-11dd-4ccd-88b2-d9a233597743",
   "metadata": {},
   "outputs": [],
   "source": []
  }
 ],
 "metadata": {
  "kernelspec": {
   "display_name": "Python 3.13 (RAG)",
   "language": "python",
   "name": "rag_env"
  },
  "language_info": {
   "codemirror_mode": {
    "name": "ipython",
    "version": 3
   },
   "file_extension": ".py",
   "mimetype": "text/x-python",
   "name": "python",
   "nbconvert_exporter": "python",
   "pygments_lexer": "ipython3",
   "version": "3.13.7"
  }
 },
 "nbformat": 4,
 "nbformat_minor": 5
}
